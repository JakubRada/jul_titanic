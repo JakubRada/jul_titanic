{
 "cells": [
  {
   "cell_type": "markdown",
   "source": [
    "# titanic\n",
    "Titanic is one of many competitions available through the [Kaggle](https://www.kaggle.com/c/titanic) platform.\n",
    "Its goal is to train a classifier which recognizes people who survived the Titanic catastrophe based on some known characteristics, such as age, gender, etc.\n",
    "This package provides some possible methods which (at least up to some precision) solve this problem.\n",
    "\n",
    "## Input data\n",
    "Before we describe the used methods, we need to prepare the data."
   ],
   "metadata": {}
  },
  {
   "cell_type": "markdown",
   "source": [
    "First we need to load the package"
   ],
   "metadata": {}
  },
  {
   "outputs": [],
   "cell_type": "code",
   "source": [
    "using titanic"
   ],
   "metadata": {},
   "execution_count": null
  },
  {
   "cell_type": "markdown",
   "source": [
    "Then we can load training data from provided datasets. (can be downloaded on [Kaggle](https://www.kaggle.com/c/titanic/data))"
   ],
   "metadata": {}
  },
  {
   "outputs": [],
   "cell_type": "code",
   "source": [
    "traindata, trainlabels = loadtrain(\"../data/train.csv\")"
   ],
   "metadata": {},
   "execution_count": null
  },
  {
   "cell_type": "markdown",
   "source": [
    "Note that this function call performs normalization on the data, so for some classificators later (adaboost), we may turn this procedure off with `normalize=false` keyword parameter."
   ],
   "metadata": {}
  },
  {
   "cell_type": "markdown",
   "source": [
    "Now we do almost the same for testing data.\n",
    "Here, Kaggle does not provide labels for the testing dataset and the classificator predictions need to be uploaded to their webpage to receive evaluation."
   ],
   "metadata": {}
  },
  {
   "outputs": [],
   "cell_type": "code",
   "source": [
    "testdata = loadtest(\"../data/test.csv\")"
   ],
   "metadata": {},
   "execution_count": null
  },
  {
   "cell_type": "markdown",
   "source": [
    "The datasets were loaded from `.csv` files into inner `Dataset` structures.\n",
    "These provide an useful abstraction, so one does not have to operate on matrices and vectors, but it usually suffices to pass these structures.\n",
    "As was said before, the constructor of this structure automacially normalizes the data so they are more suitable for most classifiers.\n",
    "Also, many of these methods need to add so-called 'bias' term into the feature vector.\n",
    "This is conducted in this structure as well by adding $1$ to the beginning of each point in the data matrix.\n",
    "\n",
    "The same can be said about `trainlabels`, which are stored inside `Labels` structure.\n",
    "\n",
    "Both of these structures can return their main field when called as functions (or functors)."
   ],
   "metadata": {}
  },
  {
   "outputs": [],
   "cell_type": "code",
   "source": [
    "traindata()"
   ],
   "metadata": {},
   "execution_count": null
  },
  {
   "outputs": [],
   "cell_type": "code",
   "source": [
    "trainlabels()"
   ],
   "metadata": {},
   "execution_count": null
  },
  {
   "cell_type": "markdown",
   "source": [
    "## Logistic regression\n",
    "As first and most basic classifier, we use Logistic regression.\n",
    "\n",
    "This classifier searches for a vector `w` which determines a hyperplane in the feature space that optimally separates the data points.\n",
    "However, the data are most likely not linearly separable, so there will be some some misclassified points.\n",
    "\n",
    "This search occurs in high-level function"
   ],
   "metadata": {}
  },
  {
   "outputs": [],
   "cell_type": "code",
   "source": [
    "w = regression(traindata, trainlabels; epsilon=1e-4, step=1.0)"
   ],
   "metadata": {},
   "execution_count": null
  },
  {
   "cell_type": "markdown",
   "source": [
    "The keyword parameters `epsilon` and `step` are optional and default to values in the example.\n",
    "`epsilon` indicates precision for the underlying optimizer and `step` determines coefficient of initial step.\n",
    "\n",
    "As the method for finding the optimal `w` was implemented gradient descent with adaptive stepsize.\n",
    "In each iteration, the gradient descent computes so called *negative log-likelihood*\n",
    "$$ E(w) = \\sum_{x}{\\log(1 + e^{-kxw})} $$\n",
    ", where $k$ is the class of $x$, and its derivation\n",
    "$$ \\frac{\\partial E(w)}{\\partial w} = - \\sum_x\\frac{kx}{1 + e^{kxw}} $$\n",
    "Using this derivation we find the w with minimal *negative log-likelihood* (or *cross entropy*).\n",
    "\n",
    "The adaptive step size behaves in a way that when the current step size finds better solution, we double the step in the next iteration.\n",
    "On the other hand, when the solution is worse (meaning it \"jumped\" over the optimum), we use half of it in next iteration (this iteration's result is not even used).\n",
    "The speed of convergence could be improved by using some more advanced step size adaptation, like the *Armijo conditions*, but the solution would be (almost) the same."
   ],
   "metadata": {}
  },
  {
   "cell_type": "markdown",
   "source": [
    "When we obtain the optimal `w`, we are ready to clasify the test labels.\n",
    "\n",
    "Before that we can check classification error on the train dataset."
   ],
   "metadata": {}
  },
  {
   "outputs": [],
   "cell_type": "code",
   "source": [
    "trainprediction = classify(traindata, w)"
   ],
   "metadata": {},
   "execution_count": null
  },
  {
   "outputs": [],
   "cell_type": "code",
   "source": [
    "using titanic: classificationerror\n",
    "classificationerror(trainlabels, trainprediction)"
   ],
   "metadata": {},
   "execution_count": null
  },
  {
   "cell_type": "markdown",
   "source": [
    "We can see that even on the training set, the error is not zero, so we can conclude that the data are indeed linearly unserparable."
   ],
   "metadata": {}
  },
  {
   "cell_type": "markdown",
   "source": [
    "Then we can predict classes for the test dataset.\n",
    "For this we cannot get error so straightforwardly, because we have to upload it to Kaggle website.\n",
    "So, the package provides a function for exporting `Labels` into `.csv` file."
   ],
   "metadata": {}
  },
  {
   "outputs": [],
   "cell_type": "code",
   "source": [
    "testprediction = classify(testdata, w)"
   ],
   "metadata": {},
   "execution_count": null
  },
  {
   "outputs": [],
   "cell_type": "code",
   "source": [
    "savepredictions(\"./logreg.csv\", testprediction)"
   ],
   "metadata": {},
   "execution_count": null
  },
  {
   "cell_type": "markdown",
   "source": [
    "From the website we obtain slightly worse error than on the training set, but this is expected and the difference is not that huge.\n",
    "\n",
    "| training error | test error |\n",
    "| :------------: | :--------: |\n",
    "| 0.19978        | 0.22967    |\n",
    "\n",
    "These results are not awesome, but for a basic linear classifier not that bad."
   ],
   "metadata": {}
  },
  {
   "cell_type": "markdown",
   "source": [
    "## Suppor Vector Machines\n",
    "Second, we showcase more complicated linear classifier and that is **SVM**.\n",
    "We implemented *soft-margin* variant with different kernel possibilities in function"
   ],
   "metadata": {}
  },
  {
   "cell_type": "markdown",
   "source": [
    "*Soft-margin* is used because the data are not linearly separable and thus we introduce penalty $C$ for misclassified points.\n",
    "$C$ is optional keyword parameter and defaults to $10$."
   ],
   "metadata": {}
  },
  {
   "cell_type": "markdown",
   "source": [
    "The support vector machine in its base form again searches for some optimal vector `w` which defines the hyperplane.\n",
    "However, for optimization it is more convenient to optimize its dual problem\n",
    "\\begin{align*}\n",
    "\\alpha = \\text{argmax}\\quad&\\sum_{i = 1}^{N}\\alpha_i - \\frac{1}{2}\\sum_{i,j = 1}^{N} \\alpha_i \\alpha_j y_i y_j K(x_i, x_j) \\\\\n",
    "\\text{subject to}\\quad&\\sum_{i=1}^N \\alpha_i y_i = 0 \\\\\n",
    "& 0 \\leq \\alpha_i \\leq C\n",
    "\\end{align*}"
   ],
   "metadata": {}
  },
  {
   "outputs": [],
   "cell_type": "code",
   "source": [
    "alpha = svm(traindata, trainlabels; C=10.0)"
   ],
   "metadata": {},
   "execution_count": null
  },
  {
   "cell_type": "markdown",
   "source": [
    "Kernels on the other hand are supposed to handle the non-separability as they modify the feature space and possibly making the data more separable.\n",
    "They usually take some form of a dot product, as in vanilla svm.\n",
    "More generally, each symetric positive semidefinite matrix is a kernel function.\n",
    "\n",
    "Used kernels:\n",
    "- Linear kernel: $$ K(x_i, x_j) = x_i \\cdot x_j $$\n",
    "- Polynomial kernel of power $p$: $$ K(x_i, x_j) = (1 + x_i \\cdot x_j)^p $$\n",
    "- Gaussian kernel with variance $\\sigma^2$: $$ K(x_i, x_j) = e^{\\frac{-||x_i - x_j||_2^2}{2\\sigma^2}} $$"
   ],
   "metadata": {}
  },
  {
   "cell_type": "markdown",
   "source": [
    "Kernels can be changed with setting the kernel function to one of these functions:"
   ],
   "metadata": {}
  },
  {
   "outputs": [],
   "cell_type": "code",
   "source": [
    "titanic.kernel(xi::Vector{<:Real}, xj::Vector{<:Real}) = titanic.linearkernel(xi, xj)\n",
    "linearalpha = svm(traindata, trainlabels)"
   ],
   "metadata": {},
   "execution_count": null
  },
  {
   "outputs": [],
   "cell_type": "code",
   "source": [
    "titanic.kernel(xi::Vector{<:Real}, xj::Vector{<:Real}) = titanic.polynomialkernel(xi, xj; degree=2)\n",
    "polynomialalpha = svm(traindata, trainlabels)"
   ],
   "metadata": {},
   "execution_count": null
  },
  {
   "outputs": [],
   "cell_type": "code",
   "source": [
    "titanic.kernel(xi::Vector{<:Real}, xj::Vector{<:Real}) = titanic.gaussiankernel(xi, xj; variance=1.0)\n",
    "gaussianalpha = svm(traindata, trainlabels)"
   ],
   "metadata": {},
   "execution_count": null
  },
  {
   "cell_type": "markdown",
   "source": [
    "When we obtain alpha from the dual problem, the classification then goes as follows:\n",
    "$$ \\text{class}(x) = \\text{sign}(\\sum_{i=1}^N \\alpha_i y_i K(x_i, x)) $$"
   ],
   "metadata": {}
  },
  {
   "cell_type": "markdown",
   "source": [
    "Again, we can compute errors on the training set"
   ],
   "metadata": {}
  },
  {
   "outputs": [],
   "cell_type": "code",
   "source": [
    "titanic.kernel(xi::Vector{<:Real}, xj::Vector{<:Real}) = titanic.linearkernel(xi, xj)\n",
    "classificationerror(trainlabels, classify(traindata, traindata, trainlabels, linearalpha))"
   ],
   "metadata": {},
   "execution_count": null
  },
  {
   "outputs": [],
   "cell_type": "code",
   "source": [
    "titanic.kernel(xi::Vector{<:Real}, xj::Vector{<:Real}) = titanic.polynomialkernel(xi, xj; degree=2)\n",
    "classificationerror(trainlabels, classify(traindata, traindata, trainlabels, polynomialalpha))"
   ],
   "metadata": {},
   "execution_count": null
  },
  {
   "outputs": [],
   "cell_type": "code",
   "source": [
    "titanic.kernel(xi::Vector{<:Real}, xj::Vector{<:Real}) = titanic.gaussiankernel(xi, xj; variance=1.0)\n",
    "classificationerror(trainlabels, classify(traindata, traindata, trainlabels, gaussianalpha))"
   ],
   "metadata": {},
   "execution_count": null
  },
  {
   "cell_type": "markdown",
   "source": [
    "As in logistic regression, for getting test error on test data, we need to upload predictions to the Kaggle page."
   ],
   "metadata": {}
  },
  {
   "outputs": [],
   "cell_type": "code",
   "source": [
    "titanic.kernel(xi::Vector{<:Real}, xj::Vector{<:Real}) = titanic.linearkernel(xi, xj)\n",
    "linearpredictions = classify(testdata, traindata, trainlabels, linearalpha)\n",
    "savepredictions(\"./linearsvm.csv\", linearpredictions)"
   ],
   "metadata": {},
   "execution_count": null
  },
  {
   "outputs": [],
   "cell_type": "code",
   "source": [
    "titanic.kernel(xi::Vector{<:Real}, xj::Vector{<:Real}) = titanic.polynomialkernel(xi, xj; degree=2)\n",
    "polynomialpredictions = classify(testdata, traindata, trainlabels, polynomialalpha)\n",
    "savepredictions(\"./polynomialsvm.csv\", polynomialpredictions)"
   ],
   "metadata": {},
   "execution_count": null
  },
  {
   "outputs": [],
   "cell_type": "code",
   "source": [
    "titanic.kernel(xi::Vector{<:Real}, xj::Vector{<:Real}) = titanic.gaussiankernel(xi, xj; variance=1.0)\n",
    "gaussianpredictions = classify(testdata, traindata, trainlabels, gaussianalpha)\n",
    "savepredictions(\"./gaussiansvm.csv\", gaussianpredictions)"
   ],
   "metadata": {},
   "execution_count": null
  },
  {
   "cell_type": "markdown",
   "source": [
    "Results on training and test data are summarized in table below\n",
    "\n",
    "| kernel     | training error | test error |\n",
    "| :--------- | :------------: | :--------: |\n",
    "| linear     | 0.21324        | 0.23445    |\n",
    "| polynomial | 0.16498        | 0.24642    |\n",
    "| gaussian   | 0.12233        | 0.23924    |\n",
    "\n",
    "Interestingly, we can observe that while polynomial and gaussian kernels have significantly smaller error on the training set, they perform worse than the linear kernel on the test set."
   ],
   "metadata": {}
  },
  {
   "cell_type": "markdown",
   "source": [
    "## Adaboost\n",
    "\n",
    "Last implemented classifier is adaboost.\n",
    "Adaboost is actually a multitude of *weak (simple) classifiers* united into one so-called *strong classifier*.\n",
    "Each of these weak classifiers classifies a point based on some criterion and returns its decision to the strong classifier, which decides based on weighted sum of all these decisions.\n",
    "Weights are computed from classification errors of the weak classifiers.\n",
    "Simultaneously, it assigns different weights to data samples based on how hard it is for the weak classifiers to classify them correctly.\n",
    "Also, thanks to partial errors of the weak classifiers we can compute upper bound of the classification error, which can be convenient.\n",
    "\n",
    "Pseudocode for adaboost follows\n",
    "\n",
    "1. initialize data weights $$D_1(i) = \\frac{1}{N} \\qquad \\forall i = 1, \\dots, N$$"
   ],
   "metadata": {}
  },
  {
   "cell_type": "markdown",
   "source": [
    "2. for t in $1,\\dots,T$\n",
    "\n",
    "    3. find the weak classifier $h_t$ with lowest error $$ h_t = \\text{argmin }\\epsilon(h) \\qquad \\epsilon(h) = \\sum_{i=1}^N D_t(i)\\llbracket y_i \\neq  h_t(x_i)\\rrbracket $$\n",
    "    4. if $\\epsilon(h_t) \\geq 0.5$ then stop\n",
    "    5. compute classifer weight $$\\alpha_t = \\frac{1}{2}\\log(\\frac{1 - \\epsilon_t}{\\epsilon_t}) $$\n",
    "    6. adjust data weights $$D_{t+1}(i) = \\frac{1}{Z_t}D_t(i) e^{-\\alpha_t y_i h_t(x_i)} \\quad \\forall i = 1, \\dots, N \\qquad Z_t = \\sum_{i=1}^N D_t(i) e^{-\\alpha_t y_i h_t(x_i)} $$\n",
    "\n",
    "$Z_t$ normalizes the weights so they sum to $1$ and also is the already mentioned upper bound on classification error."
   ],
   "metadata": {}
  },
  {
   "cell_type": "markdown",
   "source": [
    "This choice seemed sensible as the features used in data samples are usually not related and adaboost gives the option to classify based on some feature only.\n",
    "With this thought, we designed class of weak classifiers that selects one data feature and finds threshold that misclassifies the least amount of samples based only on this feature.\n",
    "For each pair feature and threshold there are two weak classifiers, one that classifies all featuers $<$ than threhsold as $1$ and others as $-1$, and second that classifies all features $\\geq$ than threshold as $1$ and others as $-1$."
   ],
   "metadata": {}
  },
  {
   "cell_type": "markdown",
   "source": [
    "As this classifier operates on individual features, the data normalization is not needed.\n",
    "Thus, the data can be loaded like this"
   ],
   "metadata": {}
  },
  {
   "outputs": [],
   "cell_type": "code",
   "source": [
    "traindata, trainlabels = loadtrain(\"../data/train.csv\"; normalize=false)"
   ],
   "metadata": {},
   "execution_count": null
  },
  {
   "outputs": [],
   "cell_type": "code",
   "source": [
    "testdata = loadtest(\"../data/test.csv\"; normalize=false)"
   ],
   "metadata": {},
   "execution_count": null
  },
  {
   "cell_type": "markdown",
   "source": [
    "Training of our classifier is performed by"
   ],
   "metadata": {}
  },
  {
   "outputs": [],
   "cell_type": "code",
   "source": [
    "H = boost(traindata, trainlabels; limit=100)"
   ],
   "metadata": {},
   "execution_count": null
  },
  {
   "cell_type": "markdown",
   "source": [
    "The keyword parameter `limit` corresponds to $T$ in the pseudocode and limits the number of weak classifiers constructing the strong one."
   ],
   "metadata": {}
  },
  {
   "cell_type": "markdown",
   "source": [
    "Classification of a point then proceeds as follows\n",
    "$$ H(x) = \\text{sign}(\\sum_{t=1}^T \\alpha_t h_t(x)) $$\n",
    "Again, we compare errors on train and test datasets."
   ],
   "metadata": {}
  },
  {
   "outputs": [],
   "cell_type": "code",
   "source": [
    "trainprediction = classify(traindata, H)\n",
    "classificationerror(trainlabels, trainprediction)"
   ],
   "metadata": {},
   "execution_count": null
  },
  {
   "outputs": [],
   "cell_type": "code",
   "source": [
    "testprediction = classify(testdata, H)\n",
    "savepredictions(\"./adaboost.csv\", testprediction)"
   ],
   "metadata": {},
   "execution_count": null
  },
  {
   "cell_type": "markdown",
   "source": [
    "Again, the training error is quite low, but the test error is very similar to results from other classifiers.\n",
    "It is surprising, that it did not work as expected.\n",
    "It is possible, that some features are present more in the training set and are more discriminative than in the test set.\n",
    "Perhaps, some experiments with what features use to decide would find an answer to this possibility and the algorithm could be improved.\n",
    "\n",
    "| training error | test error |\n",
    "| :------------: | :--------: |\n",
    "| 0.16835        | 0.23924    |"
   ],
   "metadata": {}
  },
  {
   "cell_type": "markdown",
   "source": [
    "The implementation of the algorithm is sped up by presorting feature spaces, so it is not necessary to iterate over all values in range, but only until the error starts increasing again\n",
    "If this feature was removed, we would get the same results but it would be a lot slower.\n",
    "\n",
    "Another speedup could be achieved by decreasing the `limit`.\n",
    "When we reduce it to $10$, the learning is approximately $10$ times faster, but the error on training set increased only by $0.2$.\n",
    "If speed was prefered to accuracy, this is another area to take advantage of."
   ],
   "metadata": {}
  },
  {
   "cell_type": "markdown",
   "source": [
    "## Conclusion\n",
    "\n",
    "| method              | training error | test error |\n",
    "| :------------------ | :------------: | :--------: |\n",
    "| logistic regression | 0.19978        | 0.22967    |\n",
    "| kernel svm          | 0.21324        | 0.23445    |\n",
    "| adaboost            | 0.16835        | 0.23924    |\n",
    "\n",
    "From the results we can see, that logistic regression is the best of the algorithms on test dataset, even though it does not have the lowest error on training data.\n",
    "On the other hand, adaboost has the lowest training error, but is the worst on testing data.\n",
    "This could mean, that it is overfitted or that the test data are more different from the training set than expected.\n",
    "The kernel svm generalizes quite well as the training error and test error are similar.\n",
    "It is disappointing that the kernels with lower training error performed worse on the test data.\n",
    "Possibly, it could be improved by finding better exponent or variance.\n",
    "\n",
    "In terms of speed, the worst is probably adaboost, because it does not have an easily optimizable form as gradient descent or quadratic optimization problem.\n",
    "We need to search for the best classifier over all features and that makes it slower.\n",
    "\n",
    "In conclusion, the results cannot be considered as a success as all the methods classified with quite high errors on both training and testing datasets.\n",
    "Some more powerful classifiers, such as neural nets, would probably work better or some smarter data preprocessing could be investigated.\n",
    "For example, some features could be omitted as unimportant and better results could be achieved."
   ],
   "metadata": {}
  },
  {
   "cell_type": "markdown",
   "source": [
    "---\n",
    "\n",
    "*This notebook was generated using [Literate.jl](https://github.com/fredrikekre/Literate.jl).*"
   ],
   "metadata": {}
  }
 ],
 "nbformat_minor": 3,
 "metadata": {
  "language_info": {
   "file_extension": ".jl",
   "mimetype": "application/julia",
   "name": "julia",
   "version": "1.7.0"
  },
  "kernelspec": {
   "name": "julia-1.7",
   "display_name": "Julia 1.7.0",
   "language": "julia"
  }
 },
 "nbformat": 4
}
